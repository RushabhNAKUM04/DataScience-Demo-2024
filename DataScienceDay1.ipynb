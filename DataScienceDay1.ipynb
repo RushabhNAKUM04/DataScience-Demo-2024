{
  "nbformat": 4,
  "nbformat_minor": 0,
  "metadata": {
    "colab": {
      "provenance": [],
      "authorship_tag": "ABX9TyMNj9onxtaeaxkkLCK3+6UF",
      "include_colab_link": true
    },
    "kernelspec": {
      "name": "python3",
      "display_name": "Python 3"
    },
    "language_info": {
      "name": "python"
    }
  },
  "cells": [
    {
      "cell_type": "markdown",
      "metadata": {
        "id": "view-in-github",
        "colab_type": "text"
      },
      "source": [
        "<a href=\"https://colab.research.google.com/github/RushabhNAKUM04/DataScience-Demo-2024/blob/main/DataScienceDay1.ipynb\" target=\"_parent\"><img src=\"https://colab.research.google.com/assets/colab-badge.svg\" alt=\"Open In Colab\"/></a>"
      ]
    },
    {
      "cell_type": "markdown",
      "source": [
        "# **Data Science Stucture**\n",
        "\n",
        "1. Ingest ->\n",
        "2. ED ->\n",
        "3. Modeling ->\n",
        "4. Conclusion ->"
      ],
      "metadata": {
        "id": "5jxzqg7VZxRC"
      }
    },
    {
      "cell_type": "markdown",
      "source": [
        "# 1) Ingest"
      ],
      "metadata": {
        "id": "bfRENbfMfoQO"
      }
    },
    {
      "cell_type": "code",
      "execution_count": null,
      "metadata": {
        "id": "wm-NUQDkY1u5"
      },
      "outputs": [],
      "source": []
    }
  ]
}